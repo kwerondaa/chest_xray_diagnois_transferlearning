{
 "cells": [
  {
   "cell_type": "code",
   "execution_count": 9,
   "metadata": {},
   "outputs": [],
   "source": [
    "import matplotlib\n",
    "\n",
    "from keras.layers import Input, Lambda, Dense, Flatten\n",
    "from keras.models import Model\n",
    "from keras.applications.vgg16 import VGG16\n",
    "from keras.applications.vgg16 import preprocess_input\n",
    "from keras.preprocessing import image\n",
    "from keras.preprocessing.image import ImageDataGenerator\n",
    "from keras.models import Sequential\n",
    "import numpy as np\n",
    "from glob import glob\n",
    "import matplotlib.pyplot as plt"
   ]
  },
  {
   "cell_type": "code",
   "execution_count": 10,
   "metadata": {},
   "outputs": [],
   "source": [
    "#resizing images\n",
    "IMAGE_SIZE = [224, 224]\n",
    "\n",
    "train_path = 'chest_xray/train'\n",
    "valid_path ='chest_xray/test'\n",
    "\n",
    "#STEPS\n",
    "#path to images: train and test\n",
    "# instatiate the network model\n",
    "# remove the start and top layers\n",
    "# skip training the weights\n",
    "#define no.of classes =>folders= glob(dataset/train)\n",
    "#Flatten model output\n",
    "#Add last (prediction) softmax layer\n",
    "# instatiate model and see its structure\n",
    "# compile the model\n",
    "# preprocessing images with ImageDataGenerator-create datagen,then create a flow directory\n",
    "# fit the model\n",
    "# train it\n",
    "# measure it performance"
   ]
  },
  {
   "cell_type": "code",
   "execution_count": 11,
   "metadata": {},
   "outputs": [],
   "source": [
    "#importing the vgg16 library. then add preprocessing layer.\n",
    "#also usinf imagenet weights\n",
    "vgg = VGG16(input_shape= IMAGE_SIZE + [3], weights= 'imagenet', include_top = False)\n",
    "#The original last layer of VGG and resnet is always 1000 categories. Here we are skipping becoz\n",
    "#our dataset has only 2 categories; normal and pneumonia\n",
    "#we are also skipping the first layer becoz we are defining our our IMAGE_SIZE of 224*224\n",
    "#so include_top = False removes first and last layers"
   ]
  },
  {
   "cell_type": "code",
   "execution_count": 12,
   "metadata": {},
   "outputs": [],
   "source": [
    "#skip training of layers to maintain our imported imagenet weights\n",
    "for layer in vgg.layers:\n",
    "    layer.trainable = False"
   ]
  },
  {
   "cell_type": "code",
   "execution_count": 20,
   "metadata": {},
   "outputs": [
    {
     "data": {
      "text/plain": [
       "['chest_xray/train\\\\NORMAL', 'chest_xray/train\\\\PNEUMONIA']"
      ]
     },
     "execution_count": 20,
     "metadata": {},
     "output_type": "execute_result"
    }
   ],
   "source": [
    "#Defining number of output classes\n",
    "folders = glob('chest_xray/train/*')\n",
    "folders"
   ]
  },
  {
   "cell_type": "code",
   "execution_count": 21,
   "metadata": {},
   "outputs": [],
   "source": [
    "#flattening output\n",
    "x= Flatten()(vgg.output)"
   ]
  },
  {
   "cell_type": "code",
   "execution_count": 22,
   "metadata": {},
   "outputs": [],
   "source": [
    "#add last output softmax layer\n",
    "prediction = Dense(len(folders), activation = 'softmax')(x) \n",
    "#folders is the number of output classes of the network"
   ]
  },
  {
   "cell_type": "code",
   "execution_count": 23,
   "metadata": {},
   "outputs": [
    {
     "name": "stdout",
     "output_type": "stream",
     "text": [
      "Model: \"model_3\"\n",
      "_________________________________________________________________\n",
      "Layer (type)                 Output Shape              Param #   \n",
      "=================================================================\n",
      "input_2 (InputLayer)         (None, 224, 224, 3)       0         \n",
      "_________________________________________________________________\n",
      "block1_conv1 (Conv2D)        (None, 224, 224, 64)      1792      \n",
      "_________________________________________________________________\n",
      "block1_conv2 (Conv2D)        (None, 224, 224, 64)      36928     \n",
      "_________________________________________________________________\n",
      "block1_pool (MaxPooling2D)   (None, 112, 112, 64)      0         \n",
      "_________________________________________________________________\n",
      "block2_conv1 (Conv2D)        (None, 112, 112, 128)     73856     \n",
      "_________________________________________________________________\n",
      "block2_conv2 (Conv2D)        (None, 112, 112, 128)     147584    \n",
      "_________________________________________________________________\n",
      "block2_pool (MaxPooling2D)   (None, 56, 56, 128)       0         \n",
      "_________________________________________________________________\n",
      "block3_conv1 (Conv2D)        (None, 56, 56, 256)       295168    \n",
      "_________________________________________________________________\n",
      "block3_conv2 (Conv2D)        (None, 56, 56, 256)       590080    \n",
      "_________________________________________________________________\n",
      "block3_conv3 (Conv2D)        (None, 56, 56, 256)       590080    \n",
      "_________________________________________________________________\n",
      "block3_pool (MaxPooling2D)   (None, 28, 28, 256)       0         \n",
      "_________________________________________________________________\n",
      "block4_conv1 (Conv2D)        (None, 28, 28, 512)       1180160   \n",
      "_________________________________________________________________\n",
      "block4_conv2 (Conv2D)        (None, 28, 28, 512)       2359808   \n",
      "_________________________________________________________________\n",
      "block4_conv3 (Conv2D)        (None, 28, 28, 512)       2359808   \n",
      "_________________________________________________________________\n",
      "block4_pool (MaxPooling2D)   (None, 14, 14, 512)       0         \n",
      "_________________________________________________________________\n",
      "block5_conv1 (Conv2D)        (None, 14, 14, 512)       2359808   \n",
      "_________________________________________________________________\n",
      "block5_conv2 (Conv2D)        (None, 14, 14, 512)       2359808   \n",
      "_________________________________________________________________\n",
      "block5_conv3 (Conv2D)        (None, 14, 14, 512)       2359808   \n",
      "_________________________________________________________________\n",
      "block5_pool (MaxPooling2D)   (None, 7, 7, 512)         0         \n",
      "_________________________________________________________________\n",
      "flatten_3 (Flatten)          (None, 25088)             0         \n",
      "_________________________________________________________________\n",
      "dense_3 (Dense)              (None, 2)                 50178     \n",
      "=================================================================\n",
      "Total params: 14,764,866\n",
      "Trainable params: 50,178\n",
      "Non-trainable params: 14,714,688\n",
      "_________________________________________________________________\n"
     ]
    }
   ],
   "source": [
    "#model object\n",
    "model = Model(inputs = vgg.input, outputs = prediction)\n",
    "\n",
    "#structure of the model\n",
    "model.summary()"
   ]
  },
  {
   "cell_type": "code",
   "execution_count": 24,
   "metadata": {},
   "outputs": [],
   "source": [
    "#compiling the model\n",
    "model.compile(loss ='categorical_crossentropy',\n",
    "             optimizer = 'adam',\n",
    "              metrics = ['accuracy']\n",
    "             )"
   ]
  },
  {
   "cell_type": "code",
   "execution_count": 26,
   "metadata": {},
   "outputs": [],
   "source": [
    "#using DataGenerator to create variance of test data\n",
    "from keras.preprocessing.image import ImageDataGenerator\n",
    "train_datagen = ImageDataGenerator(rescale = 1./255,\n",
    "                                  shear_range = 0.2,\n",
    "                                   zoom_range =0.2,\n",
    "                                   horizontal_flip = True\n",
    "                                  )\n",
    "\n",
    "test_datagen = ImageDataGenerator(rescale = 1./255)"
   ]
  },
  {
   "cell_type": "code",
   "execution_count": 33,
   "metadata": {},
   "outputs": [
    {
     "name": "stdout",
     "output_type": "stream",
     "text": [
      "Found 5216 images belonging to 2 classes.\n",
      "Found 624 images belonging to 2 classes.\n"
     ]
    }
   ],
   "source": [
    "#Inserting images for train and test\n",
    "training_set = train_datagen.flow_from_directory('chest_xray/train',\n",
    "                                               target_size = (224, 224),\n",
    "                                               batch_size = 32,\n",
    "                                               class_mode = 'categorical'\n",
    "                                              )\n",
    "\n",
    "testing_set = test_datagen.flow_from_directory('chest_xray/test',\n",
    "                                               target_size = (224, 224),\n",
    "                                               batch_size = 32,\n",
    "                                               class_mode = 'categorical'\n",
    "                                              )\n"
   ]
  },
  {
   "cell_type": "code",
   "execution_count": 34,
   "metadata": {},
   "outputs": [
    {
     "name": "stdout",
     "output_type": "stream",
     "text": [
      "Epoch 1/2\n",
      "163/163 [==============================] - 979s 6s/step - loss: 0.2114 - accuracy: 0.9222 - val_loss: 0.4533 - val_accuracy: 0.8846\n",
      "Epoch 2/2\n",
      "163/163 [==============================] - 896s 5s/step - loss: 0.1125 - accuracy: 0.9569 - val_loss: 0.2590 - val_accuracy: 0.9103\n"
     ]
    }
   ],
   "source": [
    "#Fit the model\n",
    "\n",
    "r= model.fit_generator(\n",
    "    training_set,\n",
    "    validation_data = testing_set,\n",
    "    epochs = 2,\n",
    "    steps_per_epoch = len(training_set),\n",
    "    validation_steps = len(testing_set)\n",
    ")"
   ]
  },
  {
   "cell_type": "code",
   "execution_count": 36,
   "metadata": {},
   "outputs": [
    {
     "name": "stderr",
     "output_type": "stream",
     "text": [
      "C:\\Users\\Kweronda\\Anaconda3\\envs\\tensorflow\\lib\\site-packages\\ipykernel_launcher.py:5: UserWarning: Matplotlib is currently using agg, which is a non-GUI backend, so cannot show the figure.\n",
      "  \"\"\"\n"
     ]
    }
   ],
   "source": [
    "#plotting loss\n",
    "plt.plot(r.history['loss'], label = 'train loss')\n",
    "plt.plot(r.history['val_loss'], label = 'val loss')\n",
    "plt.legend()\n",
    "plt.show()\n",
    "plt.savefig('LossVal_loss')\n"
   ]
  },
  {
   "cell_type": "code",
   "execution_count": 41,
   "metadata": {},
   "outputs": [],
   "source": [
    "#saving model\n",
    "import tensorflow as tf\n",
    "from keras.models import load_model\n",
    "model.save('xray_vgg16.m1')"
   ]
  },
  {
   "cell_type": "code",
   "execution_count": 45,
   "metadata": {},
   "outputs": [
    {
     "name": "stdout",
     "output_type": "stream",
     "text": [
      "[[1. 0.]]\n"
     ]
    }
   ],
   "source": [
    "#Validating model accuracy\n",
    "\n",
    "from keras.models import load_model\n",
    "\n",
    "model = load_model('xray_vgg16.m1')\n",
    "img = image.load_img('chest_xray/val/NORMAL/NORMAL2-IM-1427-0001.jpeg', target_size = (224, 224))\n",
    "x= image.img_to_array(img)\n",
    "x= np.expand_dims(x, axis = 0)\n",
    "img_data = preprocess_input(x)\n",
    "classes = model.predict(img_data)\n",
    "print(classes)"
   ]
  },
  {
   "cell_type": "code",
   "execution_count": 46,
   "metadata": {},
   "outputs": [],
   "source": [
    "#model predicted the image is for a normal patient, and it indeed is."
   ]
  },
  {
   "cell_type": "code",
   "execution_count": null,
   "metadata": {},
   "outputs": [],
   "source": []
  }
 ],
 "metadata": {
  "kernelspec": {
   "display_name": "Python 3",
   "language": "python",
   "name": "python3"
  },
  "language_info": {
   "codemirror_mode": {
    "name": "ipython",
    "version": 3
   },
   "file_extension": ".py",
   "mimetype": "text/x-python",
   "name": "python",
   "nbconvert_exporter": "python",
   "pygments_lexer": "ipython3",
   "version": "3.7.7"
  }
 },
 "nbformat": 4,
 "nbformat_minor": 4
}
